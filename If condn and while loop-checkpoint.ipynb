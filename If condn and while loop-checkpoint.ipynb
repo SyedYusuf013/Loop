{
 "cells": [
  {
   "cell_type": "code",
   "execution_count": 12,
   "id": "6bb1fa0a",
   "metadata": {},
   "outputs": [
    {
     "name": "stdout",
     "output_type": "stream",
     "text": [
      "this is a valid statement \n"
     ]
    }
   ],
   "source": [
    "a = 10\n",
    "b = 20\n",
    "\n",
    "if a == 10 or b > 20:\n",
    "    print(\"this is a valid statement \")\n",
    "elif a == 10 and b <= 20 :\n",
    "    print(\"this statement is valid inside elif\")\n",
    "else :\n",
    "    print(\"condition is not valid\")"
   ]
  },
  {
   "cell_type": "code",
   "execution_count": 4,
   "id": "80bccea2",
   "metadata": {},
   "outputs": [
    {
     "data": {
      "text/plain": [
       "True"
      ]
     },
     "execution_count": 4,
     "metadata": {},
     "output_type": "execute_result"
    }
   ],
   "source": [
    "a == 10 and b == 20"
   ]
  },
  {
   "cell_type": "code",
   "execution_count": 5,
   "id": "52a079b3",
   "metadata": {},
   "outputs": [
    {
     "data": {
      "text/plain": [
       "True"
      ]
     },
     "execution_count": 5,
     "metadata": {},
     "output_type": "execute_result"
    }
   ],
   "source": [
    "a == 10 "
   ]
  },
  {
   "cell_type": "code",
   "execution_count": 6,
   "id": "160a7eca",
   "metadata": {},
   "outputs": [
    {
     "data": {
      "text/plain": [
       "True"
      ]
     },
     "execution_count": 6,
     "metadata": {},
     "output_type": "execute_result"
    }
   ],
   "source": [
    "b == 20"
   ]
  },
  {
   "cell_type": "code",
   "execution_count": 28,
   "id": "92c93c2b",
   "metadata": {},
   "outputs": [
    {
     "name": "stdout",
     "output_type": "stream",
     "text": [
      "Enter your fname   Syed\n",
      "Enter your lname    Yusuf\n",
      "Your name is in correct order\n"
     ]
    }
   ],
   "source": [
    "#take a input from your keyboard as your first name and last name and then try to validate of write multiple condition by yourself\n",
    "firstname = input(\"Enter your fname   \")\n",
    "lastname = input(\"Enter your lname    \")\n",
    "\n",
    "if firstname == 'syed' and lastname == 'yusuf':\n",
    "    print(\"your name is correct\")\n",
    "elif firstname == 'Syed' and lastname == 'Yusuf':\n",
    "    print(\"Your name is in correct order\")\n",
    "elif firstname == 'Syed Fayeque' and lastname == 'Uddin Yusuf':\n",
    "    print(\"this is your full name\")\n",
    "else:\n",
    "    print(\"your name is wrong\")"
   ]
  },
  {
   "cell_type": "code",
   "execution_count": 30,
   "id": "5c57031d",
   "metadata": {},
   "outputs": [
    {
     "name": "stdout",
     "output_type": "stream",
     "text": [
      "this is valid\n"
     ]
    }
   ],
   "source": [
    "if a == 10 : \n",
    "    print(\"this is valid\")"
   ]
  },
  {
   "cell_type": "code",
   "execution_count": 2,
   "id": "17c0f315",
   "metadata": {},
   "outputs": [
    {
     "name": "stdout",
     "output_type": "stream",
     "text": [
      "this is my speed\n",
      "this is my speed\n",
      "this is my speed\n",
      "this is my speed\n",
      "this is my speed\n",
      "this is my speed\n",
      "this is my speed\n",
      "this is my speed\n",
      "this is my speed\n"
     ]
    }
   ],
   "source": [
    "initial_speed = 0\n",
    "final_speed = 100\n",
    "count = 1\n",
    "while initial_speed < final_speed :\n",
    "    print(\"this is my speed\")\n",
    "    count = count +1\n",
    "    if count == 10 :\n",
    "        break\n",
    "    "
   ]
  },
  {
   "cell_type": "code",
   "execution_count": null,
   "id": "292e2dbd",
   "metadata": {},
   "outputs": [],
   "source": []
  }
 ],
 "metadata": {
  "kernelspec": {
   "display_name": "Python 3 (ipykernel)",
   "language": "python",
   "name": "python3"
  },
  "language_info": {
   "codemirror_mode": {
    "name": "ipython",
    "version": 3
   },
   "file_extension": ".py",
   "mimetype": "text/x-python",
   "name": "python",
   "nbconvert_exporter": "python",
   "pygments_lexer": "ipython3",
   "version": "3.9.7"
  }
 },
 "nbformat": 4,
 "nbformat_minor": 5
}
