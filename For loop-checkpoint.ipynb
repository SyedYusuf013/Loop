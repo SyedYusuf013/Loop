{
 "cells": [
  {
   "cell_type": "code",
   "execution_count": 1,
   "id": "fc5b0f99",
   "metadata": {},
   "outputs": [
    {
     "name": "stdout",
     "output_type": "stream",
     "text": [
      "1\n",
      "2\n",
      "3\n",
      "4\n",
      "5\n",
      "no 10rs notes are available\n"
     ]
    }
   ],
   "source": [
    "notes = 5\n",
    "i = 1\n",
    "j = 1\n",
    "while i < notes:\n",
    "    print(i)\n",
    "    i += 1\n",
    "else :\n",
    "    while j < 2:\n",
    "        print(i)\n",
    "        j = j + 1\n",
    "        \n",
    "    print(\"no 10rs notes are available\")"
   ]
  },
  {
   "cell_type": "code",
   "execution_count": 3,
   "id": "a4d5a382",
   "metadata": {},
   "outputs": [],
   "source": [
    "s = \"syed\""
   ]
  },
  {
   "cell_type": "code",
   "execution_count": 4,
   "id": "49c1bdff",
   "metadata": {},
   "outputs": [
    {
     "data": {
      "text/plain": [
       "'syed'"
      ]
     },
     "execution_count": 4,
     "metadata": {},
     "output_type": "execute_result"
    }
   ],
   "source": [
    "s"
   ]
  },
  {
   "cell_type": "code",
   "execution_count": 5,
   "id": "222faa13",
   "metadata": {},
   "outputs": [
    {
     "data": {
      "text/plain": [
       "'e'"
      ]
     },
     "execution_count": 5,
     "metadata": {},
     "output_type": "execute_result"
    }
   ],
   "source": [
    "s[2]"
   ]
  },
  {
   "cell_type": "code",
   "execution_count": 6,
   "id": "5250197c",
   "metadata": {},
   "outputs": [
    {
     "data": {
      "text/plain": [
       "'d'"
      ]
     },
     "execution_count": 6,
     "metadata": {},
     "output_type": "execute_result"
    }
   ],
   "source": [
    "s[3]"
   ]
  },
  {
   "cell_type": "code",
   "execution_count": 7,
   "id": "90394222",
   "metadata": {},
   "outputs": [
    {
     "data": {
      "text/plain": [
       "'ye'"
      ]
     },
     "execution_count": 7,
     "metadata": {},
     "output_type": "execute_result"
    }
   ],
   "source": [
    " s[1:3]"
   ]
  },
  {
   "cell_type": "code",
   "execution_count": 8,
   "id": "61c13126",
   "metadata": {},
   "outputs": [
    {
     "data": {
      "text/plain": [
       "'yed'"
      ]
     },
     "execution_count": 8,
     "metadata": {},
     "output_type": "execute_result"
    }
   ],
   "source": [
    "s[1:4]"
   ]
  },
  {
   "cell_type": "code",
   "execution_count": 9,
   "id": "8699cb55",
   "metadata": {},
   "outputs": [
    {
     "data": {
      "text/plain": [
       "'yed'"
      ]
     },
     "execution_count": 9,
     "metadata": {},
     "output_type": "execute_result"
    }
   ],
   "source": [
    "s[1:7]"
   ]
  },
  {
   "cell_type": "code",
   "execution_count": 14,
   "id": "9a2b7eb7",
   "metadata": {},
   "outputs": [],
   "source": [
    " g=\"uwswhs wshiwsh wugsi wiy swi iigsi\""
   ]
  },
  {
   "cell_type": "code",
   "execution_count": 15,
   "id": "28a8bc11",
   "metadata": {},
   "outputs": [
    {
     "data": {
      "text/plain": [
       "'hs wshiwsh wugsi wiy swi iigsi'"
      ]
     },
     "execution_count": 15,
     "metadata": {},
     "output_type": "execute_result"
    }
   ],
   "source": [
    "g[4:98]"
   ]
  },
  {
   "cell_type": "code",
   "execution_count": 16,
   "id": "a0456422",
   "metadata": {},
   "outputs": [
    {
     "data": {
      "text/plain": [
       "'swhw'"
      ]
     },
     "execution_count": 16,
     "metadata": {},
     "output_type": "execute_result"
    }
   ],
   "source": [
    "g[5:13:2]"
   ]
  },
  {
   "cell_type": "code",
   "execution_count": 17,
   "id": "09480d36",
   "metadata": {},
   "outputs": [
    {
     "data": {
      "text/plain": [
       "'swhs wshiwsh wug'"
      ]
     },
     "execution_count": 17,
     "metadata": {},
     "output_type": "execute_result"
    }
   ],
   "source": [
    "g[2:18:1]"
   ]
  },
  {
   "cell_type": "code",
   "execution_count": 19,
   "id": "6c51e74f",
   "metadata": {},
   "outputs": [
    {
     "data": {
      "text/plain": [
       "'is h'"
      ]
     },
     "execution_count": 19,
     "metadata": {},
     "output_type": "execute_result"
    }
   ],
   "source": [
    "g[10:2:-2]"
   ]
  },
  {
   "cell_type": "code",
   "execution_count": 20,
   "id": "e1940477",
   "metadata": {},
   "outputs": [
    {
     "data": {
      "text/plain": [
       "'isgii iws yiw isguw hswihsw shwswu'"
      ]
     },
     "execution_count": 20,
     "metadata": {},
     "output_type": "execute_result"
    }
   ],
   "source": [
    " g[::-1]"
   ]
  },
  {
   "cell_type": "code",
   "execution_count": 21,
   "id": "02b6b0c3",
   "metadata": {},
   "outputs": [
    {
     "data": {
      "text/plain": [
       "'swhs wshiwsh wugsi wiy s'"
      ]
     },
     "execution_count": 21,
     "metadata": {},
     "output_type": "execute_result"
    }
   ],
   "source": [
    "g[2:-8]"
   ]
  },
  {
   "cell_type": "code",
   "execution_count": 22,
   "id": "3f737251",
   "metadata": {},
   "outputs": [
    {
     "data": {
      "text/plain": [
       "'syed'"
      ]
     },
     "execution_count": 22,
     "metadata": {},
     "output_type": "execute_result"
    }
   ],
   "source": [
    "s"
   ]
  },
  {
   "cell_type": "code",
   "execution_count": 23,
   "id": "89319e39",
   "metadata": {},
   "outputs": [
    {
     "data": {
      "text/plain": [
       "'uwswhs wshiwsh wugsi wiy swi iigsi'"
      ]
     },
     "execution_count": 23,
     "metadata": {},
     "output_type": "execute_result"
    }
   ],
   "source": [
    "g"
   ]
  },
  {
   "cell_type": "code",
   "execution_count": 24,
   "id": "3535e1c7",
   "metadata": {},
   "outputs": [
    {
     "ename": "NameError",
     "evalue": "name 'i' is not defined",
     "output_type": "error",
     "traceback": [
      "\u001b[1;31m---------------------------------------------------------------------------\u001b[0m",
      "\u001b[1;31mNameError\u001b[0m                                 Traceback (most recent call last)",
      "\u001b[1;32m~\\AppData\\Local\\Temp/ipykernel_15324/3616029859.py\u001b[0m in \u001b[0;36m<module>\u001b[1;34m\u001b[0m\n\u001b[1;32m----> 1\u001b[1;33m \u001b[0mi\u001b[0m\u001b[1;33m\u001b[0m\u001b[1;33m\u001b[0m\u001b[0m\n\u001b[0m",
      "\u001b[1;31mNameError\u001b[0m: name 'i' is not defined"
     ]
    }
   ],
   "source": [
    "i"
   ]
  },
  {
   "cell_type": "code",
   "execution_count": 25,
   "id": "8216c5b5",
   "metadata": {},
   "outputs": [
    {
     "data": {
      "text/plain": [
       "'syed'"
      ]
     },
     "execution_count": 25,
     "metadata": {},
     "output_type": "execute_result"
    }
   ],
   "source": [
    "s"
   ]
  },
  {
   "cell_type": "code",
   "execution_count": 26,
   "id": "a8ce452b",
   "metadata": {},
   "outputs": [
    {
     "data": {
      "text/plain": [
       "'uwswhs wshiwsh wugsi wiy swi iigsi'"
      ]
     },
     "execution_count": 26,
     "metadata": {},
     "output_type": "execute_result"
    }
   ],
   "source": [
    "g"
   ]
  },
  {
   "cell_type": "code",
   "execution_count": 31,
   "id": "c2143c08",
   "metadata": {},
   "outputs": [
    {
     "name": "stdout",
     "output_type": "stream",
     "text": [
      "u\n",
      "gggggg\n",
      "w\n",
      "s\n",
      "gggggg\n",
      "w\n",
      "h\n",
      "s\n",
      " \n",
      "gggggg\n",
      "w\n",
      "s\n",
      "h\n",
      "i\n",
      "gggggg\n",
      "w\n",
      "s\n",
      "h\n",
      " \n",
      "gggggg\n",
      "w\n",
      "u\n",
      "g\n",
      "s\n",
      "i\n",
      " \n",
      "gggggg\n",
      "w\n",
      "i\n",
      "y\n",
      " \n",
      "s\n",
      "gggggg\n",
      "w\n",
      "i\n",
      " \n",
      "i\n",
      "i\n",
      "g\n",
      "s\n",
      "i\n"
     ]
    }
   ],
   "source": [
    "for i in g:\n",
    "    if i == 'w':\n",
    "        print(\"gggggg\")\n",
    "    print(i)"
   ]
  },
  {
   "cell_type": "code",
   "execution_count": 29,
   "id": "c05d455a",
   "metadata": {},
   "outputs": [
    {
     "name": "stdout",
     "output_type": "stream",
     "text": [
      "s\n",
      "y\n",
      "e\n",
      "d\n"
     ]
    }
   ],
   "source": [
    "for i in s:\n",
    "    print(i)"
   ]
  },
  {
   "cell_type": "code",
   "execution_count": 32,
   "id": "d2fdd4ff",
   "metadata": {},
   "outputs": [
    {
     "data": {
      "text/plain": [
       "'uwswhs wshiwsh wugsi wiy swi iigsi'"
      ]
     },
     "execution_count": 32,
     "metadata": {},
     "output_type": "execute_result"
    }
   ],
   "source": [
    "g"
   ]
  },
  {
   "cell_type": "code",
   "execution_count": 34,
   "id": "3e08ff9c",
   "metadata": {},
   "outputs": [
    {
     "name": "stdout",
     "output_type": "stream",
     "text": [
      "u\n",
      "w\n",
      "s\n",
      "w\n",
      "h\n",
      "s\n",
      " \n",
      "w\n",
      "s\n",
      "h\n",
      "i\n",
      "w\n",
      "s\n",
      "h\n",
      " \n",
      "w\n",
      "u\n",
      "g\n",
      "s\n",
      "i\n",
      " \n",
      "w\n",
      "i\n",
      "y\n",
      " \n",
      "s\n",
      "w\n",
      "i\n",
      " \n",
      "i\n",
      "i\n",
      "g\n",
      "s\n",
      "i\n",
      "last char\n",
      "the end\n"
     ]
    }
   ],
   "source": [
    "for i in g:\n",
    "    print(i)\n",
    "else :\n",
    "    if i == 'i':\n",
    "        print(\"last char\")\n",
    "    print(\"the end\")\n"
   ]
  },
  {
   "cell_type": "code",
   "execution_count": 37,
   "id": "1ca21b93",
   "metadata": {},
   "outputs": [
    {
     "name": "stdout",
     "output_type": "stream",
     "text": [
      "u\n",
      "w\n"
     ]
    }
   ],
   "source": [
    "for i in g:\n",
    "    if i == 's':\n",
    "        break\n",
    "    print(i)\n",
    "else :\n",
    "    if i == 'i':\n",
    "        print(\"last char\")\n",
    "    print(\"the end\")"
   ]
  },
  {
   "cell_type": "code",
   "execution_count": 38,
   "id": "0d130266",
   "metadata": {},
   "outputs": [
    {
     "name": "stdout",
     "output_type": "stream",
     "text": [
      "u\n",
      "w\n",
      "w\n",
      "h\n",
      " \n",
      "w\n",
      "h\n",
      "i\n",
      "w\n",
      "h\n",
      " \n",
      "w\n",
      "u\n",
      "g\n",
      "i\n",
      " \n",
      "w\n",
      "i\n",
      "y\n",
      " \n",
      "w\n",
      "i\n",
      " \n",
      "i\n",
      "i\n",
      "g\n",
      "i\n",
      "last char\n",
      "the end\n"
     ]
    }
   ],
   "source": [
    "for i in g:\n",
    "    if i == 's':\n",
    "        continue\n",
    "    print(i)\n",
    "else :\n",
    "    if i == 'i':\n",
    "        print(\"last char\")\n",
    "    print(\"the end\")"
   ]
  },
  {
   "cell_type": "code",
   "execution_count": 40,
   "id": "6dc822f2",
   "metadata": {},
   "outputs": [],
   "source": [
    "y = \"hdskeur\"\n",
    "yy = \"\"\n",
    "\n",
    "for i in range (len(y)):\n",
    "    if y[i] == \"u\":\n",
    "        continue\n",
    "    else:\n",
    "        yy = yy + y[i]"
   ]
  },
  {
   "cell_type": "code",
   "execution_count": 41,
   "id": "832ded42",
   "metadata": {},
   "outputs": [
    {
     "data": {
      "text/plain": [
       "'hdsker'"
      ]
     },
     "execution_count": 41,
     "metadata": {},
     "output_type": "execute_result"
    }
   ],
   "source": [
    "yy"
   ]
  },
  {
   "cell_type": "code",
   "execution_count": 42,
   "id": "06ceb719",
   "metadata": {},
   "outputs": [
    {
     "data": {
      "text/plain": [
       "7"
      ]
     },
     "execution_count": 42,
     "metadata": {},
     "output_type": "execute_result"
    }
   ],
   "source": [
    "len(y)"
   ]
  },
  {
   "cell_type": "code",
   "execution_count": 48,
   "id": "86c90dd4",
   "metadata": {},
   "outputs": [
    {
     "name": "stdout",
     "output_type": "stream",
     "text": [
      "* \r\n",
      "* * \r\n",
      "* * * \r\n",
      "* * * * \r\n",
      "* * * * * \r\n",
      "* * * * * * \r\n",
      "* * * * * * * \r\n",
      "* * * * * * * * \r\n"
     ]
    }
   ],
   "source": [
    "n = 8\n",
    "for i in range(0, n):\n",
    "    for j in range(0, i +1):\n",
    "        print(\"* \" , end = \"\")\n",
    "    print(\"\\r\")"
   ]
  },
  {
   "cell_type": "code",
   "execution_count": 6,
   "id": "c34056bd",
   "metadata": {},
   "outputs": [
    {
     "name": "stdout",
     "output_type": "stream",
     "text": [
      "enter row:7\n",
      "*************\n",
      " ***********\n",
      "  *********\n",
      "   *******\n",
      "    *****\n",
      "     ***\n",
      "      *\n"
     ]
    }
   ],
   "source": [
    "n = int(input('enter row:'))\n",
    "\n",
    "for i in range(n,0,-1):\n",
    "    for j in range(n-i):\n",
    "        print(' ', end='')\n",
    "        \n",
    "    for j in range(2*i-1):\n",
    "        print('*',end='')\n",
    "    print()\n",
    "    "
   ]
  },
  {
   "cell_type": "code",
   "execution_count": 2,
   "id": "353a9d06",
   "metadata": {},
   "outputs": [
    {
     "name": "stdout",
     "output_type": "stream",
     "text": [
      "            * * * * * * * * \n",
      "             * * * * * * * \n",
      "              * * * * * * \n",
      "               * * * * * \n",
      "                * * * * \n",
      "                 * * * \n",
      "                  * * \n",
      "                   * \n"
     ]
    }
   ],
   "source": [
    "num = 7\n",
    "m = 2 * num -2\n",
    "for i in range(num, -1, -1):\n",
    "    for j in range(m, 0, -1):\n",
    "        print(end=\" \")\n",
    "    m = m + 1\n",
    "    for j in range(0, i + 1):\n",
    "        print(\"*\", end=\" \")\n",
    "    print(\"\")\n",
    "    "
   ]
  },
  {
   "cell_type": "code",
   "execution_count": 4,
   "id": "222cf7d0",
   "metadata": {},
   "outputs": [
    {
     "data": {
      "text/plain": [
       "range(0, 5)"
      ]
     },
     "execution_count": 4,
     "metadata": {},
     "output_type": "execute_result"
    }
   ],
   "source": [
    "range(5)"
   ]
  },
  {
   "cell_type": "code",
   "execution_count": 13,
   "id": "34ad8050",
   "metadata": {},
   "outputs": [
    {
     "name": "stdout",
     "output_type": "stream",
     "text": [
      "        * \n",
      "       * * \n",
      "      * * * \n",
      "     * * * * \n",
      "    * * * * * \n",
      "   * * * * * * \n",
      "  * * * * * * * \n",
      " * * * * * * * * \n",
      "* * * * * * * * * \n"
     ]
    }
   ],
   "source": [
    "n = 9\n",
    "i = 0\n",
    "\n",
    "while i < n :\n",
    "    print(' '*(n-i-1) + '* '*(i+1))\n",
    "    i += 1"
   ]
  },
  {
   "cell_type": "code",
   "execution_count": null,
   "id": "91c662f1",
   "metadata": {},
   "outputs": [],
   "source": []
  }
 ],
 "metadata": {
  "kernelspec": {
   "display_name": "Python 3 (ipykernel)",
   "language": "python",
   "name": "python3"
  },
  "language_info": {
   "codemirror_mode": {
    "name": "ipython",
    "version": 3
   },
   "file_extension": ".py",
   "mimetype": "text/x-python",
   "name": "python",
   "nbconvert_exporter": "python",
   "pygments_lexer": "ipython3",
   "version": "3.9.7"
  }
 },
 "nbformat": 4,
 "nbformat_minor": 5
}
